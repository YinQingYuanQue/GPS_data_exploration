{
 "cells": [
  {
   "cell_type": "code",
   "execution_count": 2,
   "metadata": {},
   "outputs": [
    {
     "name": "stdout",
     "output_type": "stream",
     "text": [
      "Collecting rasterio\n",
      "  Downloading rasterio-1.3.9-cp39-cp39-win_amd64.whl (23.4 MB)\n",
      "     --------------------------------------- 23.4/23.4 MB 15.6 MB/s eta 0:00:00\n",
      "Requirement already satisfied: certifi in c:\\users\\dawnmoon\\anaconda3\\lib\\site-packages (from rasterio) (2022.9.14)\n",
      "Requirement already satisfied: attrs in c:\\users\\dawnmoon\\anaconda3\\lib\\site-packages (from rasterio) (21.4.0)\n",
      "Requirement already satisfied: cligj>=0.5 in c:\\users\\dawnmoon\\anaconda3\\lib\\site-packages (from rasterio) (0.7.2)\n",
      "Requirement already satisfied: click-plugins in c:\\users\\dawnmoon\\anaconda3\\lib\\site-packages (from rasterio) (1.1.1)\n",
      "Requirement already satisfied: numpy in c:\\users\\dawnmoon\\anaconda3\\lib\\site-packages (from rasterio) (1.21.5)\n",
      "Requirement already satisfied: click>=4.0 in c:\\users\\dawnmoon\\anaconda3\\lib\\site-packages (from rasterio) (8.0.4)\n",
      "Collecting affine\n",
      "  Downloading affine-2.4.0-py3-none-any.whl (15 kB)\n",
      "Collecting snuggs>=1.4.1\n",
      "  Downloading snuggs-1.4.7-py3-none-any.whl (5.4 kB)\n",
      "Requirement already satisfied: setuptools in c:\\users\\dawnmoon\\anaconda3\\lib\\site-packages (from rasterio) (63.4.1)\n",
      "Requirement already satisfied: colorama in c:\\users\\dawnmoon\\anaconda3\\lib\\site-packages (from click>=4.0->rasterio) (0.4.5)\n",
      "Requirement already satisfied: pyparsing>=2.1.6 in c:\\users\\dawnmoon\\anaconda3\\lib\\site-packages (from snuggs>=1.4.1->rasterio) (3.0.9)\n",
      "Installing collected packages: snuggs, affine, rasterio\n",
      "Successfully installed affine-2.4.0 rasterio-1.3.9 snuggs-1.4.7\n",
      "Note: you may need to restart the kernel to use updated packages.\n"
     ]
    }
   ],
   "source": [
    "pip install rasterio"
   ]
  },
  {
   "cell_type": "code",
   "execution_count": 1,
   "metadata": {},
   "outputs": [],
   "source": [
    "import geopandas as gpd\n",
    "import pandas as pd\n",
    "import numpy as np\n",
    "import rasterio\n",
    "import matplotlib.pyplot as plt\n",
    "from datetime import datetime, timedelta"
   ]
  },
  {
   "cell_type": "code",
   "execution_count": 2,
   "metadata": {
    "tags": [
     "Load File"
    ]
   },
   "outputs": [],
   "source": [
    "RedV1 = gpd.read_file(r'D:\\PhD\\TickBase\\Yan\\Simulated_GPS\\Ramah_RedV1.shp')\n",
    "RedV2 = gpd.read_file(r'D:\\PhD\\TickBase\\Yan\\Simulated_GPS\\Ramah_RedV2.shp')\n",
    "Cove = gpd.read_file(r'D:\\PhD\\TickBase\\Yan\\Simulated_GPS\\Ramah_Cove.shp')\n",
    "BlackMesa = gpd.read_file(r'D:\\PhD\\TickBase\\Yan\\Simulated_GPS\\Ramah_BlackMesa.shp')"
   ]
  },
  {
   "cell_type": "code",
   "execution_count": 3,
   "metadata": {
    "tags": [
     "Load File"
    ]
   },
   "outputs": [],
   "source": [
    "# Sentinel-2 10m LULC Time Series data\n",
    "# https://www.arcgis.com/home/item.html?id=d3da5dd386d140cf93fc9ecbf8da5e31\n",
    "# https://livingatlas.arcgis.com/landcoverexplorer/#mapCenter=-3.286%2C31.34%2C3&mode=step&timeExtent=2017%2C2021&year=2022&downloadMode=true\n",
    "# 2022\n",
    "Senti_file_AZ = rasterio.open(r'D:\\PhD\\TickBase\\Yan\\Envi_Data\\LandCover\\Senti_Esri\\AZ\\12S_20220101-20230101.tif')\n",
    "Senti_file_NM = rasterio.open(r'D:\\PhD\\TickBase\\Yan\\Envi_Data\\LandCover\\Senti_Esri\\NM\\13S_20220101-20230101.tif')"
   ]
  },
  {
   "cell_type": "code",
   "execution_count": 4,
   "metadata": {
    "tags": [
     "Parameter"
    ]
   },
   "outputs": [],
   "source": [
    "time_period = 14 # \"2 weeks\"\n",
    "start_time = 1 # 1 day after the origin point \n",
    "end_time = 1 # 1 day before the last point"
   ]
  },
  {
   "cell_type": "code",
   "execution_count": 5,
   "metadata": {
    "tags": [
     "Raster_Shp"
    ]
   },
   "outputs": [],
   "source": [
    "coords = [(x,y) for x,y in zip(RedV2.geometry.x,RedV2.geometry.y)]\n",
    "RedV2['LULC'] = [x[0] for x in Senti_file_AZ.sample(coords)]\n",
    "#RedV2.loc[RedV2['RasterV']!=0]"
   ]
  },
  {
   "cell_type": "code",
   "execution_count": 6,
   "metadata": {},
   "outputs": [
    {
     "data": {
      "text/plain": [
       "[487, 2230]"
      ]
     },
     "execution_count": 6,
     "metadata": {},
     "output_type": "execute_result"
    }
   ],
   "source": [
    "count_set = []\n",
    "LULC_set = np.unique(RedV2['LULC'])\n",
    "for i in LULC_set:\n",
    "    count = sum(1 for x in RedV2['LULC'] if x == i)\n",
    "    count_set.append(count)\n",
    "count_set"
   ]
  },
  {
   "cell_type": "code",
   "execution_count": 8,
   "metadata": {},
   "outputs": [
    {
     "ename": "NameError",
     "evalue": "name 'df_shape' is not defined",
     "output_type": "error",
     "traceback": [
      "\u001b[1;31m---------------------------------------------------------------------------\u001b[0m",
      "\u001b[1;31mNameError\u001b[0m                                 Traceback (most recent call last)",
      "\u001b[1;32md:\\PhD\\TickBase\\Yan\\Code\\Test_Analysis.ipynb Cell 8\u001b[0m in \u001b[0;36m<cell line: 2>\u001b[1;34m()\u001b[0m\n\u001b[0;32m      <a href='vscode-notebook-cell:/d%3A/PhD/TickBase/Yan/Code/Test_Analysis.ipynb#X10sZmlsZQ%3D%3D?line=0'>1</a>\u001b[0m tmp_start_time \u001b[39m=\u001b[39m RedV2\u001b[39m.\u001b[39mloc[\u001b[39m0\u001b[39m,\u001b[39m'\u001b[39m\u001b[39mtime\u001b[39m\u001b[39m'\u001b[39m]\n\u001b[1;32m----> <a href='vscode-notebook-cell:/d%3A/PhD/TickBase/Yan/Code/Test_Analysis.ipynb#X10sZmlsZQ%3D%3D?line=1'>2</a>\u001b[0m tmp_end_time \u001b[39m=\u001b[39m RedV2\u001b[39m.\u001b[39mloc[df_shape[\u001b[39m0\u001b[39m]\u001b[39m-\u001b[39m\u001b[39m1\u001b[39m,\u001b[39m'\u001b[39m\u001b[39mtime\u001b[39m\u001b[39m'\u001b[39m]\n\u001b[0;32m      <a href='vscode-notebook-cell:/d%3A/PhD/TickBase/Yan/Code/Test_Analysis.ipynb#X10sZmlsZQ%3D%3D?line=2'>3</a>\u001b[0m n_period \u001b[39m=\u001b[39m (tmp_end_time \u001b[39m-\u001b[39m tmp_start_time)\u001b[39m.\u001b[39mtotal_seconds()\u001b[39m/\u001b[39m\u001b[39m3600\u001b[39m\u001b[39m/\u001b[39m\u001b[39m24\u001b[39m\u001b[39m/\u001b[39mtime_period\n\u001b[0;32m      <a href='vscode-notebook-cell:/d%3A/PhD/TickBase/Yan/Code/Test_Analysis.ipynb#X10sZmlsZQ%3D%3D?line=3'>4</a>\u001b[0m \u001b[39mrange\u001b[39m(\u001b[39mint\u001b[39m(n_period))\n",
      "\u001b[1;31mNameError\u001b[0m: name 'df_shape' is not defined"
     ]
    }
   ],
   "source": [
    "tmp_start_time = RedV2.loc[0,'time']\n",
    "tmp_end_time = RedV2.loc[df_shape[0]-1,'time']\n",
    "n_period = (tmp_end_time - tmp_start_time).total_seconds()/3600/24/time_period\n",
    "range(int(n_period))"
   ]
  },
  {
   "cell_type": "code",
   "execution_count": 25,
   "metadata": {},
   "outputs": [
    {
     "data": {
      "text/html": [
       "<div>\n",
       "<style scoped>\n",
       "    .dataframe tbody tr th:only-of-type {\n",
       "        vertical-align: middle;\n",
       "    }\n",
       "\n",
       "    .dataframe tbody tr th {\n",
       "        vertical-align: top;\n",
       "    }\n",
       "\n",
       "    .dataframe thead th {\n",
       "        text-align: right;\n",
       "    }\n",
       "</style>\n",
       "<table border=\"1\" class=\"dataframe\">\n",
       "  <thead>\n",
       "    <tr style=\"text-align: right;\">\n",
       "      <th></th>\n",
       "      <th>GMT Time</th>\n",
       "      <th>Latitude</th>\n",
       "      <th>Longitude</th>\n",
       "      <th>Altitude</th>\n",
       "      <th>Duration</th>\n",
       "      <th>Temperatur</th>\n",
       "      <th>Voltage</th>\n",
       "      <th>DOP</th>\n",
       "      <th>Satellites</th>\n",
       "      <th>Cause of F</th>\n",
       "      <th>Lab_Coord</th>\n",
       "      <th>Lab_Dur</th>\n",
       "      <th>Lab_Sat</th>\n",
       "      <th>Lab_Alt</th>\n",
       "      <th>No</th>\n",
       "      <th>time</th>\n",
       "      <th>distance</th>\n",
       "      <th>speed</th>\n",
       "      <th>geometry</th>\n",
       "      <th>LULC</th>\n",
       "    </tr>\n",
       "  </thead>\n",
       "  <tbody>\n",
       "    <tr>\n",
       "      <th>0</th>\n",
       "      <td>8/10/2021 14:31</td>\n",
       "      <td>34.790283</td>\n",
       "      <td>-108.305657</td>\n",
       "      <td>2690.83</td>\n",
       "      <td>65</td>\n",
       "      <td>19.0</td>\n",
       "      <td>0</td>\n",
       "      <td>3.0</td>\n",
       "      <td>5</td>\n",
       "      <td>GPS Schedule</td>\n",
       "      <td>0.0</td>\n",
       "      <td>0.0</td>\n",
       "      <td>0.0</td>\n",
       "      <td>0.0</td>\n",
       "      <td>1</td>\n",
       "      <td>2021-08-10 08:31:00</td>\n",
       "      <td>-1.000000</td>\n",
       "      <td>-1.000000</td>\n",
       "      <td>POINT (746520.733 3853095.300)</td>\n",
       "      <td>11</td>\n",
       "    </tr>\n",
       "    <tr>\n",
       "      <th>1</th>\n",
       "      <td>8/10/2021 14:45</td>\n",
       "      <td>34.795679</td>\n",
       "      <td>-108.303513</td>\n",
       "      <td>2690.13</td>\n",
       "      <td>3</td>\n",
       "      <td>18.0</td>\n",
       "      <td>0</td>\n",
       "      <td>3.6</td>\n",
       "      <td>5</td>\n",
       "      <td>GPS Schedule</td>\n",
       "      <td>0.0</td>\n",
       "      <td>0.0</td>\n",
       "      <td>0.0</td>\n",
       "      <td>0.0</td>\n",
       "      <td>2</td>\n",
       "      <td>2021-08-10 08:45:00</td>\n",
       "      <td>45.880294</td>\n",
       "      <td>3.276863</td>\n",
       "      <td>POINT (746700.929 3853699.248)</td>\n",
       "      <td>2</td>\n",
       "    </tr>\n",
       "    <tr>\n",
       "      <th>2</th>\n",
       "      <td>8/10/2021 15:00</td>\n",
       "      <td>34.792382</td>\n",
       "      <td>-108.297636</td>\n",
       "      <td>2685.92</td>\n",
       "      <td>3</td>\n",
       "      <td>18.5</td>\n",
       "      <td>0</td>\n",
       "      <td>3.8</td>\n",
       "      <td>5</td>\n",
       "      <td>GPS Schedule</td>\n",
       "      <td>0.0</td>\n",
       "      <td>0.0</td>\n",
       "      <td>0.0</td>\n",
       "      <td>0.0</td>\n",
       "      <td>3</td>\n",
       "      <td>2021-08-10 09:00:00</td>\n",
       "      <td>85.194239</td>\n",
       "      <td>2.353872</td>\n",
       "      <td>POINT (747248.551 3853347.996)</td>\n",
       "      <td>11</td>\n",
       "    </tr>\n",
       "    <tr>\n",
       "      <th>3</th>\n",
       "      <td>8/10/2021 15:15</td>\n",
       "      <td>34.794316</td>\n",
       "      <td>-108.304693</td>\n",
       "      <td>2677.39</td>\n",
       "      <td>3</td>\n",
       "      <td>18.5</td>\n",
       "      <td>0</td>\n",
       "      <td>3.2</td>\n",
       "      <td>5</td>\n",
       "      <td>GPS Schedule</td>\n",
       "      <td>0.0</td>\n",
       "      <td>0.0</td>\n",
       "      <td>0.0</td>\n",
       "      <td>0.0</td>\n",
       "      <td>4</td>\n",
       "      <td>2021-08-10 09:15:00</td>\n",
       "      <td>8.960635</td>\n",
       "      <td>0.463648</td>\n",
       "      <td>POINT (746596.977 3853545.118)</td>\n",
       "      <td>11</td>\n",
       "    </tr>\n",
       "    <tr>\n",
       "      <th>4</th>\n",
       "      <td>8/10/2021 15:30</td>\n",
       "      <td>34.799378</td>\n",
       "      <td>-108.307767</td>\n",
       "      <td>2651.16</td>\n",
       "      <td>2</td>\n",
       "      <td>18.5</td>\n",
       "      <td>0</td>\n",
       "      <td>2.6</td>\n",
       "      <td>5</td>\n",
       "      <td>GPS Schedule</td>\n",
       "      <td>0.0</td>\n",
       "      <td>0.0</td>\n",
       "      <td>0.0</td>\n",
       "      <td>0.0</td>\n",
       "      <td>5</td>\n",
       "      <td>2021-08-10 09:30:00</td>\n",
       "      <td>9.585296</td>\n",
       "      <td>0.702347</td>\n",
       "      <td>POINT (746300.609 3854099.176)</td>\n",
       "      <td>11</td>\n",
       "    </tr>\n",
       "  </tbody>\n",
       "</table>\n",
       "</div>"
      ],
      "text/plain": [
       "          GMT Time   Latitude   Longitude  Altitude  Duration  Temperatur  \\\n",
       "0  8/10/2021 14:31  34.790283 -108.305657   2690.83        65        19.0   \n",
       "1  8/10/2021 14:45  34.795679 -108.303513   2690.13         3        18.0   \n",
       "2  8/10/2021 15:00  34.792382 -108.297636   2685.92         3        18.5   \n",
       "3  8/10/2021 15:15  34.794316 -108.304693   2677.39         3        18.5   \n",
       "4  8/10/2021 15:30  34.799378 -108.307767   2651.16         2        18.5   \n",
       "\n",
       "   Voltage  DOP  Satellites    Cause of F  Lab_Coord  Lab_Dur  Lab_Sat  \\\n",
       "0        0  3.0           5  GPS Schedule        0.0      0.0      0.0   \n",
       "1        0  3.6           5  GPS Schedule        0.0      0.0      0.0   \n",
       "2        0  3.8           5  GPS Schedule        0.0      0.0      0.0   \n",
       "3        0  3.2           5  GPS Schedule        0.0      0.0      0.0   \n",
       "4        0  2.6           5  GPS Schedule        0.0      0.0      0.0   \n",
       "\n",
       "   Lab_Alt  No                time   distance     speed  \\\n",
       "0      0.0   1 2021-08-10 08:31:00  -1.000000 -1.000000   \n",
       "1      0.0   2 2021-08-10 08:45:00  45.880294  3.276863   \n",
       "2      0.0   3 2021-08-10 09:00:00  85.194239  2.353872   \n",
       "3      0.0   4 2021-08-10 09:15:00   8.960635  0.463648   \n",
       "4      0.0   5 2021-08-10 09:30:00   9.585296  0.702347   \n",
       "\n",
       "                         geometry  LULC  \n",
       "0  POINT (746520.733 3853095.300)    11  \n",
       "1  POINT (746700.929 3853699.248)     2  \n",
       "2  POINT (747248.551 3853347.996)    11  \n",
       "3  POINT (746596.977 3853545.118)    11  \n",
       "4  POINT (746300.609 3854099.176)    11  "
      ]
     },
     "execution_count": 25,
     "metadata": {},
     "output_type": "execute_result"
    }
   ],
   "source": [
    "RedV2.head()"
   ]
  },
  {
   "cell_type": "code",
   "execution_count": 53,
   "metadata": {},
   "outputs": [
    {
     "data": {
      "text/plain": [
       "506"
      ]
     },
     "execution_count": 53,
     "metadata": {},
     "output_type": "execute_result"
    }
   ],
   "source": [
    "count"
   ]
  },
  {
   "cell_type": "code",
   "execution_count": 52,
   "metadata": {},
   "outputs": [
    {
     "data": {
      "text/plain": [
       "[135, 506]"
      ]
     },
     "execution_count": 52,
     "metadata": {},
     "output_type": "execute_result"
    }
   ],
   "source": [
    "count_set"
   ]
  },
  {
   "cell_type": "code",
   "execution_count": 59,
   "metadata": {},
   "outputs": [
    {
     "data": {
      "text/html": [
       "<div>\n",
       "<style scoped>\n",
       "    .dataframe tbody tr th:only-of-type {\n",
       "        vertical-align: middle;\n",
       "    }\n",
       "\n",
       "    .dataframe tbody tr th {\n",
       "        vertical-align: top;\n",
       "    }\n",
       "\n",
       "    .dataframe thead th {\n",
       "        text-align: right;\n",
       "    }\n",
       "</style>\n",
       "<table border=\"1\" class=\"dataframe\">\n",
       "  <thead>\n",
       "    <tr style=\"text-align: right;\">\n",
       "      <th></th>\n",
       "      <th>2</th>\n",
       "      <th>11</th>\n",
       "    </tr>\n",
       "  </thead>\n",
       "  <tbody>\n",
       "    <tr>\n",
       "      <th>0</th>\n",
       "      <td>135.0</td>\n",
       "      <td>506.0</td>\n",
       "    </tr>\n",
       "    <tr>\n",
       "      <th>1</th>\n",
       "      <td>127.0</td>\n",
       "      <td>503.0</td>\n",
       "    </tr>\n",
       "    <tr>\n",
       "      <th>2</th>\n",
       "      <td>130.0</td>\n",
       "      <td>518.0</td>\n",
       "    </tr>\n",
       "    <tr>\n",
       "      <th>3</th>\n",
       "      <td>91.0</td>\n",
       "      <td>534.0</td>\n",
       "    </tr>\n",
       "  </tbody>\n",
       "</table>\n",
       "</div>"
      ],
      "text/plain": [
       "      2      11\n",
       "0  135.0  506.0\n",
       "1  127.0  503.0\n",
       "2  130.0  518.0\n",
       "3   91.0  534.0"
      ]
     },
     "execution_count": 59,
     "metadata": {},
     "output_type": "execute_result"
    }
   ],
   "source": [
    "count_set = pd.DataFrame(columns = np.unique(RedV2['LULC']))\n",
    "count_set.loc[0] = np.zeros(np.unique(RedV2['LULC']).shape)\n",
    "\n",
    "for n in range(int(n_period)):\n",
    "    tmp_count_set = []\n",
    "    for i in LULC_set:\n",
    "        count = sum(1 for x,y in zip(RedV2['LULC'], RedV2['time']) if x == i and \n",
    "                    y >= period_start_time + timedelta(days=n*time_period) and y <= period_start_time + timedelta(days=(n+1)*time_period))\n",
    "        tmp_count_set.append(count)\n",
    "    count_set.loc[n] = tmp_count_set\n",
    "count_set"
   ]
  },
  {
   "cell_type": "code",
   "execution_count": 71,
   "metadata": {},
   "outputs": [
    {
     "data": {
      "text/html": [
       "<div>\n",
       "<style scoped>\n",
       "    .dataframe tbody tr th:only-of-type {\n",
       "        vertical-align: middle;\n",
       "    }\n",
       "\n",
       "    .dataframe tbody tr th {\n",
       "        vertical-align: top;\n",
       "    }\n",
       "\n",
       "    .dataframe thead th {\n",
       "        text-align: right;\n",
       "    }\n",
       "</style>\n",
       "<table border=\"1\" class=\"dataframe\">\n",
       "  <thead>\n",
       "    <tr style=\"text-align: right;\">\n",
       "      <th></th>\n",
       "      <th>2</th>\n",
       "      <th>11</th>\n",
       "    </tr>\n",
       "  </thead>\n",
       "  <tbody>\n",
       "    <tr>\n",
       "      <th>0</th>\n",
       "      <td>4180</td>\n",
       "      <td>15994</td>\n",
       "    </tr>\n",
       "    <tr>\n",
       "      <th>1</th>\n",
       "      <td>4092</td>\n",
       "      <td>16053</td>\n",
       "    </tr>\n",
       "    <tr>\n",
       "      <th>2</th>\n",
       "      <td>4275</td>\n",
       "      <td>15870</td>\n",
       "    </tr>\n",
       "    <tr>\n",
       "      <th>3</th>\n",
       "      <td>2611</td>\n",
       "      <td>17534</td>\n",
       "    </tr>\n",
       "  </tbody>\n",
       "</table>\n",
       "</div>"
      ],
      "text/plain": [
       "     2      11\n",
       "0  4180  15994\n",
       "1  4092  16053\n",
       "2  4275  15870\n",
       "3  2611  17534"
      ]
     },
     "execution_count": 71,
     "metadata": {},
     "output_type": "execute_result"
    }
   ],
   "source": [
    "time_set = pd.DataFrame(0,columns = np.unique(RedV2['LULC']), index = range(int(n_period)))\n",
    "time_set"
   ]
  },
  {
   "cell_type": "code",
   "execution_count": 73,
   "metadata": {},
   "outputs": [
    {
     "data": {
      "text/html": [
       "<div>\n",
       "<style scoped>\n",
       "    .dataframe tbody tr th:only-of-type {\n",
       "        vertical-align: middle;\n",
       "    }\n",
       "\n",
       "    .dataframe tbody tr th {\n",
       "        vertical-align: top;\n",
       "    }\n",
       "\n",
       "    .dataframe thead th {\n",
       "        text-align: right;\n",
       "    }\n",
       "</style>\n",
       "<table border=\"1\" class=\"dataframe\">\n",
       "  <thead>\n",
       "    <tr style=\"text-align: right;\">\n",
       "      <th></th>\n",
       "      <th>2</th>\n",
       "      <th>11</th>\n",
       "    </tr>\n",
       "  </thead>\n",
       "  <tbody>\n",
       "    <tr>\n",
       "      <th>0</th>\n",
       "      <td>4180</td>\n",
       "      <td>15994</td>\n",
       "    </tr>\n",
       "    <tr>\n",
       "      <th>1</th>\n",
       "      <td>4092</td>\n",
       "      <td>16053</td>\n",
       "    </tr>\n",
       "    <tr>\n",
       "      <th>2</th>\n",
       "      <td>4275</td>\n",
       "      <td>15870</td>\n",
       "    </tr>\n",
       "    <tr>\n",
       "      <th>3</th>\n",
       "      <td>2611</td>\n",
       "      <td>17534</td>\n",
       "    </tr>\n",
       "    <tr>\n",
       "      <th>4</th>\n",
       "      <td>135</td>\n",
       "      <td>4245</td>\n",
       "    </tr>\n",
       "  </tbody>\n",
       "</table>\n",
       "</div>"
      ],
      "text/plain": [
       "     2      11\n",
       "0  4180  15994\n",
       "1  4092  16053\n",
       "2  4275  15870\n",
       "3  2611  17534\n",
       "4   135   4245"
      ]
     },
     "execution_count": 73,
     "metadata": {},
     "output_type": "execute_result"
    }
   ],
   "source": [
    "time_set = pd.DataFrame(0,columns = np.unique(RedV2['LULC']), index = range(int(n_period+1)))\n",
    "#time_set.loc[0] = np.zeros(np.unique(RedV2['LULC']).shape)\n",
    "n = 0\n",
    "for i in RedV2.index:\n",
    "    if i == RedV2.shape[0] - 1:\n",
    "        break\n",
    "    if RedV2.loc[i,'time'] >= period_start_time + timedelta(days=n*time_period) and RedV2.loc[i,'time'] <= period_start_time + timedelta(days=(n+1)*time_period):\n",
    "        for j in LULC_set:\n",
    "            if RedV2.loc[i,'LULC'] == j:\n",
    "                time_set.loc[n,j] = time_set.loc[n,j] + (RedV2.loc[i+1,'time']-RedV2.loc[i,'time']).total_seconds()/60.0\n",
    "                break\n",
    "    else:\n",
    "        n = n + 1\n",
    "        \n",
    "\n",
    "time_set"
   ]
  },
  {
   "cell_type": "code",
   "execution_count": 80,
   "metadata": {},
   "outputs": [
    {
     "data": {
      "text/plain": [
       "2     135\n",
       "11    506\n",
       "Name: 0, dtype: int64"
      ]
     },
     "execution_count": 80,
     "metadata": {},
     "output_type": "execute_result"
    }
   ],
   "source": [
    "count_set.iloc[0]"
   ]
  },
  {
   "cell_type": "markdown",
   "metadata": {},
   "source": [
    "<font color = 'Blue'> <b>Class Data (no numeric)</b>\n",
    "<br>\n",
    "</font>"
   ]
  },
  {
   "cell_type": "code",
   "execution_count": 12,
   "metadata": {
    "tags": [
     "Analysis"
    ]
   },
   "outputs": [
    {
     "data": {
      "text/plain": [
       "Text(0.5, 1.0, 'Time (min)')"
      ]
     },
     "execution_count": 12,
     "metadata": {},
     "output_type": "execute_result"
    },
    {
     "data": {
      "image/png": "[encoded data removed]",
      "text/plain": [
       "<Figure size 500x300 with 1 Axes>"
      ]
     },
     "metadata": {},
     "output_type": "display_data"
    },
    {
     "data": {
      "image/png": "[encoded data removed]",
      "text/plain": [
       "<Figure size 500x300 with 1 Axes>"
      ]
     },
     "metadata": {},
     "output_type": "display_data"
    }
   ],
   "source": [
    "df_shape = RedV2.shape\n",
    "RedV2['time'] = pd.to_datetime(RedV2['time'], format = '%m/%d/%Y %H:%M')\n",
    "\n",
    "period_start_time = RedV2.loc[0,'time']\n",
    "tmp_start_time = RedV2.loc[0,'time']\n",
    "tmp_end_time = RedV2.loc[df_shape[0]-1,'time']\n",
    "\n",
    "n_period = (tmp_end_time - tmp_start_time).total_seconds()/3600/24/time_period\n",
    "\n",
    "\n",
    "\n",
    "count_set = pd.DataFrame(0,columns = np.unique(RedV2['LULC']), index = range(int(n_period+1)))\n",
    "n = 0\n",
    "for i in RedV2.index:\n",
    "    if i == RedV2.shape[0] - 1:\n",
    "        break\n",
    "    if RedV2.loc[i,'time'] >= period_start_time + timedelta(days=n*time_period) and RedV2.loc[i,'time'] <= period_start_time + timedelta(days=(n+1)*time_period):\n",
    "        for j in LULC_set:\n",
    "            if RedV2.loc[i,'LULC'] == j:\n",
    "                count_set.loc[n,j] = count_set.loc[n,j] + 1\n",
    "                break\n",
    "    else:\n",
    "        n = n + 1\n",
    "    \n",
    "#count_set = np.array(count_set)\n",
    "\n",
    "time_set = pd.DataFrame(0,columns = np.unique(RedV2['LULC']), index = range(int(n_period+1)))\n",
    "n = 0\n",
    "for i in RedV2.index:\n",
    "    if i == RedV2.shape[0] - 1:\n",
    "        break\n",
    "    if RedV2.loc[i,'time'] >= period_start_time + timedelta(days=n*time_period) and RedV2.loc[i,'time'] <= period_start_time + timedelta(days=(n+1)*time_period):\n",
    "        for j in LULC_set:\n",
    "            if RedV2.loc[i,'LULC'] == j:\n",
    "                time_set.loc[n,j] = time_set.loc[n,j] + (RedV2.loc[i+1,'time']-RedV2.loc[i,'time']).total_seconds()/60.0\n",
    "                break\n",
    "    else:\n",
    "        n = n + 1\n",
    "\n",
    "fig, ax = plt.subplots(figsize = (5,3))\n",
    "for n in range(int(n_period)+1):\n",
    "    plt.bar(np.unique(RedV2['LULC']),count_set.iloc[n],alpha = 0.5)\n",
    "plt.xlabel('LULC')\n",
    "ax.set_title('Point count')\n",
    "\n",
    "fig1, ax1 = plt.subplots(figsize = (5,3))\n",
    "for n in range(int(n_period)+1):\n",
    "    plt.bar(np.unique(RedV2['LULC']),time_set.iloc[n],alpha = 0.5)\n",
    "plt.xlabel('LULC')\n",
    "ax1.set_title('Time (min)')"
   ]
  },
  {
   "cell_type": "code",
   "execution_count": 95,
   "metadata": {},
   "outputs": [
    {
     "data": {
      "text/plain": [
       "array([ 2, 11], dtype=int8)"
      ]
     },
     "execution_count": 95,
     "metadata": {},
     "output_type": "execute_result"
    }
   ],
   "source": [
    "RedV2.shape[0]\n",
    "LULC_set"
   ]
  }
 ],
 "metadata": {
  "kernelspec": {
   "display_name": "geopandas_docs",
   "language": "python",
   "name": "python3"
  },
  "language_info": {
   "codemirror_mode": {
    "name": "ipython",
    "version": 3
   },
   "file_extension": ".py",
   "mimetype": "text/x-python",
   "name": "python",
   "nbconvert_exporter": "python",
   "pygments_lexer": "ipython3",
   "version": "3.10.6"
  },
  "orig_nbformat": 4
 },
 "nbformat": 4,
 "nbformat_minor": 2
}
