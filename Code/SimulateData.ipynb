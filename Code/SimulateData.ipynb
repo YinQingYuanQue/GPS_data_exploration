{
 "cells": [
  {
   "cell_type": "code",
   "execution_count": 1,
   "metadata": {},
   "outputs": [],
   "source": [
    "import geopandas as gpd\n",
    "import random\n",
    "from shapely.geometry import Point"
   ]
  },
  {
   "cell_type": "code",
   "execution_count": 2,
   "metadata": {},
   "outputs": [],
   "source": [
    "RedV1 = gpd.read_file(r'D:\\M_3\\Cove_2021\\Data\\Converted_Data\\802\\ArcMap\\802_cl_0420.shp')\n",
    "RedV2 = gpd.read_file(r'D:\\M_3\\Cove_2021\\Data\\Converted_Data\\003\\80295_cl.shp')\n",
    "Cove = gpd.read_file(r'D:\\M_3\\Cove_2021\\Data\\Converted_Data\\002\\804_cl.shp')\n",
    "BlackMesa = gpd.read_file(r'D:\\PhD\\P50\\Data\\Collar_Data\\BlueGap\\947\\ArcMap\\947_cl_act.shp')"
   ]
  },
  {
   "cell_type": "code",
   "execution_count": 3,
   "metadata": {},
   "outputs": [],
   "source": [
    "Coord_RedV = [-109.057195, 36.542816]\n",
    "Coord_BlueG = [-109.854706 , 36.267616]\n",
    "Coord_Cove = [-109.235324 ,  36.553064]\n",
    "Coord_Ramah1 = [-108.319110 , 34.774779]\n",
    "Coord_Ramah2 = [-108.270120 , 34.899024]\n",
    "Coord_Ramah3 = [-108.531591 , 34.829248]\n",
    "Coord_Ramah4 = [-108.525245 , 35.079080]"
   ]
  },
  {
   "cell_type": "code",
   "execution_count": 7,
   "metadata": {},
   "outputs": [
    {
     "name": "stderr",
     "output_type": "stream",
     "text": [
      "c:\\ProgramData\\Anaconda3\\envs\\geopandas_docs\\lib\\site-packages\\pyproj\\crs\\crs.py:130: FutureWarning: '+init=<authority>:<code>' syntax is deprecated. '<authority>:<code>' is the preferred initialization method. When making the change, be mindful of axis order changes: https://pyproj4.github.io/pyproj/stable/gotchas.html#axis-order-changes-in-proj-6\n",
      "  in_crs_string = _prepare_from_proj_string(in_crs_string)\n"
     ]
    }
   ],
   "source": [
    "for i in BlackMesa.index:\n",
    "    BlackMesa.loc[i,'Latitude'] = BlackMesa.loc[i,'Latitude'] - (Coord_BlueG[1] - Coord_Ramah4[1]) + random.randint(-5,5)/1000.0\n",
    "    BlackMesa.loc[i,'Longitude'] = BlackMesa.loc[i,'Longitude'] - (Coord_BlueG[0] - Coord_Ramah4[0]) + random.randint(-5,5)/1000.0\n",
    "\n",
    "geo = [Point(xy) for xy in zip(BlackMesa.Longitude, BlackMesa.Latitude)]\n",
    "crs = {'init': 'EPSG:4326'} #http://www.spatialreference.org/ref/epsg/2263/  NAD 1983 UTM zone 12 N\n",
    "geo_df = gpd.GeoDataFrame(BlackMesa, crs=crs, geometry=geo)\n",
    "geo_df.to_crs(epsg=26912, inplace = True)\n",
    "geo_df.to_file(driver='ESRI Shapefile', filename=r'D:\\PhD\\TickBase\\Yan\\Simulated_GPS\\Ramah_BlackMesa.shp')"
   ]
  },
  {
   "cell_type": "code",
   "execution_count": 49,
   "metadata": {},
   "outputs": [
    {
     "name": "stdout",
     "output_type": "stream",
     "text": [
      "0.0 0.0\n"
     ]
    }
   ],
   "source": [
    "Lat = []\n",
    "Lon = []\n",
    "for i in RedV1.index:\n",
    "    Lat.append(Ramah_RedV1.loc[i,'Latitude'] - RedV1.loc[i,'Latitude']) #+ random.randint(0,5)/10000.0\n",
    "    Lon.append(Ramah_RedV1.loc[i,'Longitude'] - RedV1.loc[i,'Longitude'])\n",
    "print (sum(Lat),sum(Lon))\n"
   ]
  },
  {
   "cell_type": "code",
   "execution_count": 57,
   "metadata": {},
   "outputs": [],
   "source": [
    "geo1 = [Point(xy) for xy in zip(RedV1.Longitude, RedV1.Latitude)]\n",
    "pt = geo[0]-geo1[0]"
   ]
  },
  {
   "cell_type": "code",
   "execution_count": 58,
   "metadata": {},
   "outputs": [
    {
     "data": {
      "text/plain": [
       "(array('d'), array('d'))"
      ]
     },
     "execution_count": 58,
     "metadata": {},
     "output_type": "execute_result"
    }
   ],
   "source": [
    "pt.xy"
   ]
  }
 ],
 "metadata": {
  "kernelspec": {
   "display_name": "geopandas_docs",
   "language": "python",
   "name": "python3"
  },
  "language_info": {
   "codemirror_mode": {
    "name": "ipython",
    "version": 3
   },
   "file_extension": ".py",
   "mimetype": "text/x-python",
   "name": "python",
   "nbconvert_exporter": "python",
   "pygments_lexer": "ipython3",
   "version": "3.10.6"
  },
  "orig_nbformat": 4
 },
 "nbformat": 4,
 "nbformat_minor": 2
}
