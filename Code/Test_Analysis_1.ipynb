{
 "cells": [
  {
   "cell_type": "code",
   "execution_count": 1,
   "metadata": {},
   "outputs": [
    {
     "ename": "ModuleNotFoundError",
     "evalue": "No module named 'geopandas'",
     "output_type": "error",
     "traceback": [
      "\u001b[1;31m---------------------------------------------------------------------------\u001b[0m",
      "\u001b[1;31mModuleNotFoundError\u001b[0m                       Traceback (most recent call last)",
      "\u001b[1;32m<ipython-input-1-203b95fb2fce>\u001b[0m in \u001b[0;36m<module>\u001b[1;34m\u001b[0m\n\u001b[1;32m----> 1\u001b[1;33m \u001b[1;32mimport\u001b[0m \u001b[0mgeopandas\u001b[0m \u001b[1;32mas\u001b[0m \u001b[0mgpd\u001b[0m\u001b[1;33m\u001b[0m\u001b[1;33m\u001b[0m\u001b[0m\n\u001b[0m\u001b[0;32m      2\u001b[0m \u001b[1;32mimport\u001b[0m \u001b[0mpandas\u001b[0m \u001b[1;32mas\u001b[0m \u001b[0mpd\u001b[0m\u001b[1;33m\u001b[0m\u001b[1;33m\u001b[0m\u001b[0m\n\u001b[0;32m      3\u001b[0m \u001b[1;32mimport\u001b[0m \u001b[0mnumpy\u001b[0m \u001b[1;32mas\u001b[0m \u001b[0mnp\u001b[0m\u001b[1;33m\u001b[0m\u001b[1;33m\u001b[0m\u001b[0m\n\u001b[0;32m      4\u001b[0m \u001b[1;32mfrom\u001b[0m \u001b[0mosgeo\u001b[0m \u001b[1;32mimport\u001b[0m \u001b[0mgdal\u001b[0m\u001b[1;33m\u001b[0m\u001b[1;33m\u001b[0m\u001b[0m\n\u001b[0;32m      5\u001b[0m \u001b[1;32mimport\u001b[0m \u001b[0mrasterio\u001b[0m\u001b[1;33m\u001b[0m\u001b[1;33m\u001b[0m\u001b[0m\n",
      "\u001b[1;31mModuleNotFoundError\u001b[0m: No module named 'geopandas'"
     ]
    }
   ],
   "source": [
    "import geopandas as gpd\n",
    "import pandas as pd\n",
    "import numpy as np\n",
    "from osgeo import gdal\n",
    "import rasterio\n",
    "import matplotlib.pyplot as plt\n",
    "from datetime import datetime, timedelta\n",
    "from sklearn.linear_model import LinearRegression\n",
    "import scipy.stats as stats"
   ]
  },
  {
   "cell_type": "code",
   "execution_count": 2,
   "metadata": {
    "tags": [
     "Load File"
    ]
   },
   "outputs": [],
   "source": [
    "RedV1 = gpd.read_file(r'D:\\PhD\\TickBase\\Yan\\Simulated_GPS\\Ramah_RedV1.shp')\n",
    "RedV2 = gpd.read_file(r'D:\\PhD\\TickBase\\Yan\\Simulated_GPS\\Ramah_RedV2.shp')\n",
    "Cove = gpd.read_file(r'D:\\PhD\\TickBase\\Yan\\Simulated_GPS\\Ramah_Cove.shp')\n",
    "BlackMesa = gpd.read_file(r'D:\\PhD\\TickBase\\Yan\\Simulated_GPS\\Ramah_BlackMesa.shp')"
   ]
  },
  {
   "cell_type": "code",
   "execution_count": 3,
   "metadata": {
    "tags": [
     "Load File"
    ]
   },
   "outputs": [],
   "source": [
    "# Sentinel-2 10m LULC Time Series data\n",
    "# https://www.arcgis.com/home/item.html?id=d3da5dd386d140cf93fc9ecbf8da5e31\n",
    "# https://livingatlas.arcgis.com/landcoverexplorer/#mapCenter=-3.286%2C31.34%2C3&mode=step&timeExtent=2017%2C2021&year=2022&downloadMode=true\n",
    "# 2022\n",
    "Senti_file_AZ = rasterio.open(r'D:\\PhD\\TickBase\\Yan\\Envi_Data\\LandCover\\Senti_Esri\\AZ\\12S_20220101-20230101.tif')\n",
    "Senti_file_NM = rasterio.open(r'D:\\PhD\\TickBase\\Yan\\Envi_Data\\LandCover\\Senti_Esri\\NM\\13S_20220101-20230101.tif')"
   ]
  },
  {
   "cell_type": "code",
   "execution_count": 4,
   "metadata": {
    "tags": [
     "Parameter"
    ]
   },
   "outputs": [],
   "source": [
    "time_period = 14 # \"2 weeks\"\n",
    "start_time = 1 # 1 day after the origin point \n",
    "end_time = 1 # 1 day before the last point"
   ]
  },
  {
   "cell_type": "code",
   "execution_count": 5,
   "metadata": {
    "tags": [
     "Raster_Shp"
    ]
   },
   "outputs": [],
   "source": [
    "coords = [(x,y) for x,y in zip(RedV2.geometry.x,RedV2.geometry.y)]\n",
    "RedV2['LULC'] = [x[0] for x in Senti_file_AZ.sample(coords)]\n",
    "#RedV2.loc[RedV2['RasterV']!=0]"
   ]
  },
  {
   "cell_type": "code",
   "execution_count": 14,
   "metadata": {
    "tags": [
     "Parameter"
    ]
   },
   "outputs": [],
   "source": [
    "df_shape = RedV2.shape\n",
    "RedV2['time'] = pd.to_datetime(RedV2['time'], format = '%m/%d/%Y %H:%M')\n",
    "LULC_set = np.unique(RedV2['LULC'])\n",
    "\n",
    "period_start_time = RedV2.loc[0,'time']\n",
    "period_end_time = RedV2.loc[df_shape[0]-1,'time']\n",
    "\n",
    "n_period = (period_end_time - period_start_time).total_seconds()/3600/24/time_period"
   ]
  },
  {
   "attachments": {},
   "cell_type": "markdown",
   "metadata": {},
   "source": [
    "<font color = 'Blue'> <b>Tick counts simulation</b>\n",
    "<br>\n",
    "</font>"
   ]
  },
  {
   "cell_type": "code",
   "execution_count": 12,
   "metadata": {
    "tags": [
     "Parameter"
    ]
   },
   "outputs": [
    {
     "data": {
      "text/plain": [
       "array([ 99.74145565,  94.34819185,  94.73177219, 108.07979809,\n",
       "        92.08625945])"
      ]
     },
     "execution_count": 12,
     "metadata": {},
     "output_type": "execute_result"
    }
   ],
   "source": [
    "mean = 100\n",
    "std = 25\n",
    "T_cts = np.random.normal(mean, std, int(n_period)+1)\n",
    "T_cts"
   ]
  },
  {
   "cell_type": "markdown",
   "metadata": {},
   "source": [
    "<font color = 'Blue'> <b>Class Data (no numeric)</b>\n",
    "<br>\n",
    "</font>"
   ]
  },
  {
   "cell_type": "code",
   "execution_count": 6,
   "metadata": {
    "tags": [
     "Analysis"
    ]
   },
   "outputs": [
    {
     "data": {
      "text/plain": [
       "Text(0.5, 1.0, 'Time (min)')"
      ]
     },
     "execution_count": 6,
     "metadata": {},
     "output_type": "execute_result"
    },
    {
     "data": {
      "image/png": "[encoded data removed]",
      "text/plain": [
       "<Figure size 500x300 with 1 Axes>"
      ]
     },
     "metadata": {},
     "output_type": "display_data"
    },
    {
     "data": {
      "image/png": "[encoded data removed]",
      "text/plain": [
       "<Figure size 500x300 with 1 Axes>"
      ]
     },
     "metadata": {},
     "output_type": "display_data"
    }
   ],
   "source": [
    "count_set = pd.DataFrame(0,columns = np.unique(RedV2['LULC']), index = range(int(n_period+1)))\n",
    "n = 0\n",
    "for i in RedV2.index:\n",
    "    if i == RedV2.shape[0] - 1:\n",
    "        break\n",
    "    if RedV2.loc[i,'time'] >= period_start_time + timedelta(days=n*time_period) and RedV2.loc[i,'time'] <= period_start_time + timedelta(days=(n+1)*time_period):\n",
    "        for j in LULC_set:\n",
    "            if RedV2.loc[i,'LULC'] == j:\n",
    "                count_set.loc[n,j] = count_set.loc[n,j] + 1\n",
    "                break\n",
    "    else:\n",
    "        n = n + 1\n",
    "    \n",
    "#count_set = np.array(count_set)\n",
    "\n",
    "time_set = pd.DataFrame(0,columns = np.unique(RedV2['LULC']), index = range(int(n_period+1)))\n",
    "n = 0\n",
    "for i in RedV2.index:\n",
    "    if i == RedV2.shape[0] - 1:\n",
    "        break\n",
    "    if RedV2.loc[i,'time'] >= period_start_time + timedelta(days=n*time_period) and RedV2.loc[i,'time'] <= period_start_time + timedelta(days=(n+1)*time_period):\n",
    "        for j in LULC_set:\n",
    "            if RedV2.loc[i,'LULC'] == j:\n",
    "                time_set.loc[n,j] = time_set.loc[n,j] + (RedV2.loc[i+1,'time']-RedV2.loc[i,'time']).total_seconds()/60.0\n",
    "                break\n",
    "    else:\n",
    "        n = n + 1\n",
    "\n",
    "fig, ax = plt.subplots(figsize = (5,3))\n",
    "for n in range(int(n_period)+1):\n",
    "    plt.bar(np.unique(RedV2['LULC']),count_set.iloc[n],alpha = 0.5)\n",
    "plt.xlabel('LULC')\n",
    "ax.set_title('Point count')\n",
    "\n",
    "fig1, ax1 = plt.subplots(figsize = (5,3))\n",
    "for n in range(int(n_period)+1):\n",
    "    plt.bar(np.unique(RedV2['LULC']),time_set.iloc[n],alpha = 0.5)\n",
    "plt.xlabel('LULC')\n",
    "ax1.set_title('Time (min)')"
   ]
  },
  {
   "attachments": {},
   "cell_type": "markdown",
   "metadata": {},
   "source": [
    "<font color = 'Blue'> <b>Numeric Data</b>\n",
    "<br>\n",
    "</font>"
   ]
  },
  {
   "cell_type": "code",
   "execution_count": 7,
   "metadata": {},
   "outputs": [
    {
     "data": {
      "text/html": [
       "<div>\n",
       "<style scoped>\n",
       "    .dataframe tbody tr th:only-of-type {\n",
       "        vertical-align: middle;\n",
       "    }\n",
       "\n",
       "    .dataframe tbody tr th {\n",
       "        vertical-align: top;\n",
       "    }\n",
       "\n",
       "    .dataframe thead th {\n",
       "        text-align: right;\n",
       "    }\n",
       "</style>\n",
       "<table border=\"1\" class=\"dataframe\">\n",
       "  <thead>\n",
       "    <tr style=\"text-align: right;\">\n",
       "      <th></th>\n",
       "      <th>GMT Time</th>\n",
       "      <th>Latitude</th>\n",
       "      <th>Longitude</th>\n",
       "      <th>Altitude</th>\n",
       "      <th>Duration</th>\n",
       "      <th>Temperatur</th>\n",
       "      <th>Voltage</th>\n",
       "      <th>DOP</th>\n",
       "      <th>Satellites</th>\n",
       "      <th>Cause of F</th>\n",
       "      <th>Lab_Coord</th>\n",
       "      <th>Lab_Dur</th>\n",
       "      <th>Lab_Sat</th>\n",
       "      <th>Lab_Alt</th>\n",
       "      <th>No</th>\n",
       "      <th>time</th>\n",
       "      <th>distance</th>\n",
       "      <th>speed</th>\n",
       "      <th>geometry</th>\n",
       "      <th>LULC</th>\n",
       "    </tr>\n",
       "  </thead>\n",
       "  <tbody>\n",
       "    <tr>\n",
       "      <th>0</th>\n",
       "      <td>8/10/2021 14:31</td>\n",
       "      <td>34.790283</td>\n",
       "      <td>-108.305657</td>\n",
       "      <td>2690.83</td>\n",
       "      <td>65</td>\n",
       "      <td>19.0</td>\n",
       "      <td>0</td>\n",
       "      <td>3.0</td>\n",
       "      <td>5</td>\n",
       "      <td>GPS Schedule</td>\n",
       "      <td>0.0</td>\n",
       "      <td>0.0</td>\n",
       "      <td>0.0</td>\n",
       "      <td>0.0</td>\n",
       "      <td>1</td>\n",
       "      <td>2021-08-10 08:31:00</td>\n",
       "      <td>-1.000000</td>\n",
       "      <td>-1.000000</td>\n",
       "      <td>POINT (746520.733 3853095.300)</td>\n",
       "      <td>11</td>\n",
       "    </tr>\n",
       "    <tr>\n",
       "      <th>1</th>\n",
       "      <td>8/10/2021 14:45</td>\n",
       "      <td>34.795679</td>\n",
       "      <td>-108.303513</td>\n",
       "      <td>2690.13</td>\n",
       "      <td>3</td>\n",
       "      <td>18.0</td>\n",
       "      <td>0</td>\n",
       "      <td>3.6</td>\n",
       "      <td>5</td>\n",
       "      <td>GPS Schedule</td>\n",
       "      <td>0.0</td>\n",
       "      <td>0.0</td>\n",
       "      <td>0.0</td>\n",
       "      <td>0.0</td>\n",
       "      <td>2</td>\n",
       "      <td>2021-08-10 08:45:00</td>\n",
       "      <td>45.880294</td>\n",
       "      <td>3.276863</td>\n",
       "      <td>POINT (746700.929 3853699.248)</td>\n",
       "      <td>2</td>\n",
       "    </tr>\n",
       "    <tr>\n",
       "      <th>2</th>\n",
       "      <td>8/10/2021 15:00</td>\n",
       "      <td>34.792382</td>\n",
       "      <td>-108.297636</td>\n",
       "      <td>2685.92</td>\n",
       "      <td>3</td>\n",
       "      <td>18.5</td>\n",
       "      <td>0</td>\n",
       "      <td>3.8</td>\n",
       "      <td>5</td>\n",
       "      <td>GPS Schedule</td>\n",
       "      <td>0.0</td>\n",
       "      <td>0.0</td>\n",
       "      <td>0.0</td>\n",
       "      <td>0.0</td>\n",
       "      <td>3</td>\n",
       "      <td>2021-08-10 09:00:00</td>\n",
       "      <td>85.194239</td>\n",
       "      <td>2.353872</td>\n",
       "      <td>POINT (747248.551 3853347.996)</td>\n",
       "      <td>11</td>\n",
       "    </tr>\n",
       "    <tr>\n",
       "      <th>3</th>\n",
       "      <td>8/10/2021 15:15</td>\n",
       "      <td>34.794316</td>\n",
       "      <td>-108.304693</td>\n",
       "      <td>2677.39</td>\n",
       "      <td>3</td>\n",
       "      <td>18.5</td>\n",
       "      <td>0</td>\n",
       "      <td>3.2</td>\n",
       "      <td>5</td>\n",
       "      <td>GPS Schedule</td>\n",
       "      <td>0.0</td>\n",
       "      <td>0.0</td>\n",
       "      <td>0.0</td>\n",
       "      <td>0.0</td>\n",
       "      <td>4</td>\n",
       "      <td>2021-08-10 09:15:00</td>\n",
       "      <td>8.960635</td>\n",
       "      <td>0.463648</td>\n",
       "      <td>POINT (746596.977 3853545.118)</td>\n",
       "      <td>11</td>\n",
       "    </tr>\n",
       "    <tr>\n",
       "      <th>4</th>\n",
       "      <td>8/10/2021 15:30</td>\n",
       "      <td>34.799378</td>\n",
       "      <td>-108.307767</td>\n",
       "      <td>2651.16</td>\n",
       "      <td>2</td>\n",
       "      <td>18.5</td>\n",
       "      <td>0</td>\n",
       "      <td>2.6</td>\n",
       "      <td>5</td>\n",
       "      <td>GPS Schedule</td>\n",
       "      <td>0.0</td>\n",
       "      <td>0.0</td>\n",
       "      <td>0.0</td>\n",
       "      <td>0.0</td>\n",
       "      <td>5</td>\n",
       "      <td>2021-08-10 09:30:00</td>\n",
       "      <td>9.585296</td>\n",
       "      <td>0.702347</td>\n",
       "      <td>POINT (746300.609 3854099.176)</td>\n",
       "      <td>11</td>\n",
       "    </tr>\n",
       "  </tbody>\n",
       "</table>\n",
       "</div>"
      ],
      "text/plain": [
       "          GMT Time   Latitude   Longitude  Altitude  Duration  Temperatur  \\\n",
       "0  8/10/2021 14:31  34.790283 -108.305657   2690.83        65        19.0   \n",
       "1  8/10/2021 14:45  34.795679 -108.303513   2690.13         3        18.0   \n",
       "2  8/10/2021 15:00  34.792382 -108.297636   2685.92         3        18.5   \n",
       "3  8/10/2021 15:15  34.794316 -108.304693   2677.39         3        18.5   \n",
       "4  8/10/2021 15:30  34.799378 -108.307767   2651.16         2        18.5   \n",
       "\n",
       "   Voltage  DOP  Satellites    Cause of F  Lab_Coord  Lab_Dur  Lab_Sat  \\\n",
       "0        0  3.0           5  GPS Schedule        0.0      0.0      0.0   \n",
       "1        0  3.6           5  GPS Schedule        0.0      0.0      0.0   \n",
       "2        0  3.8           5  GPS Schedule        0.0      0.0      0.0   \n",
       "3        0  3.2           5  GPS Schedule        0.0      0.0      0.0   \n",
       "4        0  2.6           5  GPS Schedule        0.0      0.0      0.0   \n",
       "\n",
       "   Lab_Alt  No                time   distance     speed  \\\n",
       "0      0.0   1 2021-08-10 08:31:00  -1.000000 -1.000000   \n",
       "1      0.0   2 2021-08-10 08:45:00  45.880294  3.276863   \n",
       "2      0.0   3 2021-08-10 09:00:00  85.194239  2.353872   \n",
       "3      0.0   4 2021-08-10 09:15:00   8.960635  0.463648   \n",
       "4      0.0   5 2021-08-10 09:30:00   9.585296  0.702347   \n",
       "\n",
       "                         geometry  LULC  \n",
       "0  POINT (746520.733 3853095.300)    11  \n",
       "1  POINT (746700.929 3853699.248)     2  \n",
       "2  POINT (747248.551 3853347.996)    11  \n",
       "3  POINT (746596.977 3853545.118)    11  \n",
       "4  POINT (746300.609 3854099.176)    11  "
      ]
     },
     "execution_count": 7,
     "metadata": {},
     "output_type": "execute_result"
    }
   ],
   "source": [
    "RedV2.head()"
   ]
  },
  {
   "cell_type": "code",
   "execution_count": 33,
   "metadata": {
    "tags": [
     "Analysis"
    ]
   },
   "outputs": [
    {
     "name": "stderr",
     "output_type": "stream",
     "text": [
      "c:\\ProgramData\\Anaconda3\\envs\\geopandas_docs\\lib\\site-packages\\numpy\\core\\fromnumeric.py:3430: FutureWarning: In a future version, DataFrame.mean(axis=None) will return a scalar mean over the entire DataFrame. To retain the old behavior, use 'frame.mean(axis=0)' or just 'frame.mean()'\n",
      "  return mean(axis=axis, dtype=dtype, out=out, **kwargs)\n"
     ]
    },
    {
     "data": {
      "text/plain": [
       "Text(0.5, 1.0, 'Z Normalized: Cumulative index * Time')"
      ]
     },
     "execution_count": 33,
     "metadata": {},
     "output_type": "execute_result"
    },
    {
     "data": {
      "image/png": "[encoded data removed]",
      "text/plain": [
       "<Figure size 500x300 with 1 Axes>"
      ]
     },
     "metadata": {},
     "output_type": "display_data"
    },
    {
     "data": {
      "image/png": "[encoded data removed]",
      "text/plain": [
       "<Figure size 500x300 with 1 Axes>"
      ]
     },
     "metadata": {},
     "output_type": "display_data"
    }
   ],
   "source": [
    "##################################################\n",
    "features = ['speed', 'Temperatur']\n",
    "##################################################\n",
    "Cumu_index = pd.DataFrame(0,columns = features, index = range(int(n_period+1)))\n",
    "n = 0\n",
    "for i in RedV2.index:\n",
    "    if i == RedV2.shape[0] - 1:\n",
    "        break\n",
    "    if RedV2.loc[i,'time'] >= period_start_time + timedelta(days=n*time_period) and RedV2.loc[i,'time'] <= period_start_time + timedelta(days=(n+1)*time_period):\n",
    "        Cumu_index.loc[n,'speed'] = Cumu_index.loc[n,'speed'] + RedV2.loc[i,'speed']\n",
    "        Cumu_index.loc[n,'Temperatur'] = Cumu_index.loc[n,'Temperatur'] + RedV2.loc[i,'Temperatur']\n",
    "    else:\n",
    "        n = n + 1\n",
    "    \n",
    "#count_set = np.array(count_set)\n",
    "\n",
    "Cumu_index_time = pd.DataFrame(0,columns = features, index = range(int(n_period+1)))\n",
    "n = 0\n",
    "for i in RedV2.index:\n",
    "    if i == RedV2.shape[0] - 1:\n",
    "        break\n",
    "    if RedV2.loc[i,'time'] >= period_start_time + timedelta(days=n*time_period) and RedV2.loc[i,'time'] <= period_start_time + timedelta(days=(n+1)*time_period):\n",
    "        Cumu_index_time.loc[n,'speed'] = Cumu_index_time.loc[n,'speed'] + RedV2.loc[i,'speed'] * (RedV2.loc[i+1,'time']-RedV2.loc[i,'time']).total_seconds()/60.0\n",
    "        Cumu_index_time.loc[n,'Temperatur'] = Cumu_index_time.loc[n,'Temperatur'] + RedV2.loc[i,'Temperatur'] * (RedV2.loc[i+1,'time']-RedV2.loc[i,'time']).total_seconds()/60.0\n",
    "    else:\n",
    "        n = n + 1\n",
    "\n",
    "Cumu_index_norm = (Cumu_index - np.mean(Cumu_index))/np.std(Cumu_index)\n",
    "Cumu_index_time_norm = (Cumu_index_time - np.mean(Cumu_index_time))/np.std(Cumu_index_time)\n",
    "\n",
    "fig, ax = plt.subplots(figsize = (5,3))\n",
    "plt.boxplot(Cumu_index_norm)\n",
    "plt.xlabel('Feature ID')\n",
    "ax.set_title('Z Normalized: Cumulative index')\n",
    "\n",
    "fig1, ax1 = plt.subplots(figsize = (5,3))\n",
    "plt.boxplot(Cumu_index_time_norm)\n",
    "plt.xlabel('Feature ID')\n",
    "ax1.set_title('Z Normalized: Cumulative index * Time')"
   ]
  },
  {
   "attachments": {},
   "cell_type": "markdown",
   "metadata": {},
   "source": [
    "<font color = 'Red'> <b>Model</b>\n",
    "<br>\n",
    "</font>\n",
    "Linear Regression"
   ]
  },
  {
   "cell_type": "code",
   "execution_count": 47,
   "metadata": {
    "tags": [
     "Model"
    ]
   },
   "outputs": [
    {
     "name": "stdout",
     "output_type": "stream",
     "text": [
      "RMSE = 2.2556588377624243\n"
     ]
    },
    {
     "data": {
      "text/plain": [
       "Text(0.5, 1.0, 'Predicted values')"
      ]
     },
     "execution_count": 47,
     "metadata": {},
     "output_type": "execute_result"
    },
    {
     "data": {
      "image/png": "[encoded data removed]",
      "text/plain": [
       "<Figure size 500x300 with 1 Axes>"
      ]
     },
     "metadata": {},
     "output_type": "display_data"
    }
   ],
   "source": [
    "model = LinearRegression()\n",
    "model.fit(Cumu_index_norm, T_cts)\n",
    "predictions = model.predict(Cumu_index_norm)\n",
    "RMSE = np.sqrt(sum((predictions - T_cts) * (predictions - T_cts)) / n_period)\n",
    "print (f'RMSE = {RMSE}')\n",
    "\n",
    "fig, ax = plt.subplots(figsize = (5,3))\n",
    "plt.scatter(T_cts, predictions)\n",
    "plt.xlabel('Tick counts')\n",
    "ax.set_title('Predicted values')"
   ]
  },
  {
   "attachments": {},
   "cell_type": "markdown",
   "metadata": {},
   "source": [
    "<font color = 'Blue'> <b>Test of normal distribution</b>\n",
    "<br>\n",
    "</font>\n",
    "Q-Q plot"
   ]
  },
  {
   "cell_type": "code",
   "execution_count": 45,
   "metadata": {
    "tags": [
     "Model"
    ]
   },
   "outputs": [
    {
     "data": {
      "text/plain": [
       "Text(0, 0.5, 'Tick counts')"
      ]
     },
     "execution_count": 45,
     "metadata": {},
     "output_type": "execute_result"
    },
    {
     "data": {
      "image/png": "[encoded data removed]",
      "text/plain": [
       "<Figure size 500x300 with 1 Axes>"
      ]
     },
     "metadata": {},
     "output_type": "display_data"
    },
    {
     "data": {
      "image/png": "[encoded data removed]",
      "text/plain": [
       "<Figure size 500x300 with 1 Axes>"
      ]
     },
     "metadata": {},
     "output_type": "display_data"
    }
   ],
   "source": [
    "fig, ax = plt.subplots(figsize = (5,3))\n",
    "stats.probplot(predictions, dist = 'norm', plot = plt)\n",
    "plt.title('Q-Q plot')\n",
    "plt.xlabel('Theoretical Quantiles')\n",
    "plt.ylabel('Model Predictions')\n",
    "\n",
    "fig1, ax1 = plt.subplots(figsize = (5,3))\n",
    "stats.probplot(T_cts, dist = 'norm', plot = plt)\n",
    "plt.title('Q-Q plot')\n",
    "plt.xlabel('Theoretical Quantiles')\n",
    "plt.ylabel('Tick counts')"
   ]
  },
  {
   "attachments": {},
   "cell_type": "markdown",
   "metadata": {},
   "source": [
    "<font color = 'Blue'> <b>T test</b>\n",
    "<br>\n",
    "</font>"
   ]
  },
  {
   "attachments": {},
   "cell_type": "markdown",
   "metadata": {},
   "source": [
    "<b>Independent Sample T-test <br></b>\n",
    "Null Hypothesis (H0): no sigificant difference between the mean <br>\n",
    "P-value < 0.05, reject the H0 <br>\n",
    "(More like comparing distribution)"
   ]
  },
  {
   "cell_type": "code",
   "execution_count": 55,
   "metadata": {
    "tags": [
     "Model"
    ]
   },
   "outputs": [
    {
     "name": "stdout",
     "output_type": "stream",
     "text": [
      "T-Statistic: 0.0\n",
      "P-Value: 1.0\n"
     ]
    }
   ],
   "source": [
    "t_statistic, p_value = stats.ttest_ind(predictions, T_cts)\n",
    "\n",
    "print(f'T-Statistic: {t_statistic}')\n",
    "print(f'P-Value: {p_value}')"
   ]
  },
  {
   "attachments": {},
   "cell_type": "markdown",
   "metadata": {},
   "source": [
    "<b>Paired Sample T-test <br></b>\n",
    "Null Hypothesis (H0): no sigificant difference between the mean <br>\n",
    "P-value < 0.05, reject the H0 <br>\n",
    "(Compare A1 - B1, A2 - B2, ..., An - Bn)"
   ]
  },
  {
   "cell_type": "code",
   "execution_count": 66,
   "metadata": {
    "tags": [
     "Model"
    ]
   },
   "outputs": [
    {
     "name": "stdout",
     "output_type": "stream",
     "text": [
      "T-Statistic: 5.486968061829853e-15\n",
      "P-Value: 0.9999999999999959\n"
     ]
    }
   ],
   "source": [
    "t_statistic, p_value = stats.ttest_rel(predictions, T_cts)\n",
    "\n",
    "print(f'T-Statistic: {t_statistic}')\n",
    "print(f'P-Value: {p_value}')"
   ]
  },
  {
   "cell_type": "code",
   "execution_count": 65,
   "metadata": {},
   "outputs": [
    {
     "name": "stdout",
     "output_type": "stream",
     "text": [
      "T-Statistic: 0.0\n",
      "P-Value: 1.0\n"
     ]
    },
    {
     "data": {
      "text/plain": [
       "[<matplotlib.lines.Line2D at 0x27c1f9f7be0>]"
      ]
     },
     "execution_count": 65,
     "metadata": {},
     "output_type": "execute_result"
    },
    {
     "data": {
      "image/png": "[encoded data removed]",
      "text/plain": [
       "<Figure size 640x480 with 1 Axes>"
      ]
     },
     "metadata": {},
     "output_type": "display_data"
    }
   ],
   "source": [
    "a = np.array([1,2,3,4,5])\n",
    "b = np.array([1+0.001 , 2+0.001 , 3 , 4-0.001 , 5-0.001])\n",
    "t_statistic, p_value = stats.ttest_ind(a, b)\n",
    "\n",
    "print(f'T-Statistic: {t_statistic}')\n",
    "print(f'P-Value: {p_value}')\n",
    "plt.plot(a,b)"
   ]
  },
  {
   "cell_type": "code",
   "execution_count": 67,
   "metadata": {},
   "outputs": [
    {
     "data": {
      "text/html": [
       "<div>\n",
       "<style scoped>\n",
       "    .dataframe tbody tr th:only-of-type {\n",
       "        vertical-align: middle;\n",
       "    }\n",
       "\n",
       "    .dataframe tbody tr th {\n",
       "        vertical-align: top;\n",
       "    }\n",
       "\n",
       "    .dataframe thead th {\n",
       "        text-align: right;\n",
       "    }\n",
       "</style>\n",
       "<table border=\"1\" class=\"dataframe\">\n",
       "  <thead>\n",
       "    <tr style=\"text-align: right;\">\n",
       "      <th></th>\n",
       "      <th>GMT Time</th>\n",
       "      <th>Latitude</th>\n",
       "      <th>Longitude</th>\n",
       "      <th>Altitude</th>\n",
       "      <th>Duration</th>\n",
       "      <th>Temperatur</th>\n",
       "      <th>Voltage</th>\n",
       "      <th>DOP</th>\n",
       "      <th>Satellites</th>\n",
       "      <th>Cause of F</th>\n",
       "      <th>Lab_Coord</th>\n",
       "      <th>Lab_Dur</th>\n",
       "      <th>Lab_Sat</th>\n",
       "      <th>Lab_Alt</th>\n",
       "      <th>No</th>\n",
       "      <th>time</th>\n",
       "      <th>distance</th>\n",
       "      <th>speed</th>\n",
       "      <th>geometry</th>\n",
       "      <th>LULC</th>\n",
       "    </tr>\n",
       "  </thead>\n",
       "  <tbody>\n",
       "    <tr>\n",
       "      <th>0</th>\n",
       "      <td>8/10/2021 14:31</td>\n",
       "      <td>34.790283</td>\n",
       "      <td>-108.305657</td>\n",
       "      <td>2690.83</td>\n",
       "      <td>65</td>\n",
       "      <td>19.0</td>\n",
       "      <td>0</td>\n",
       "      <td>3.0</td>\n",
       "      <td>5</td>\n",
       "      <td>GPS Schedule</td>\n",
       "      <td>0.0</td>\n",
       "      <td>0.0</td>\n",
       "      <td>0.0</td>\n",
       "      <td>0.0</td>\n",
       "      <td>1</td>\n",
       "      <td>2021-08-10 08:31:00</td>\n",
       "      <td>-1.000000</td>\n",
       "      <td>-1.000000</td>\n",
       "      <td>POINT (746520.733 3853095.300)</td>\n",
       "      <td>11</td>\n",
       "    </tr>\n",
       "    <tr>\n",
       "      <th>1</th>\n",
       "      <td>8/10/2021 14:45</td>\n",
       "      <td>34.795679</td>\n",
       "      <td>-108.303513</td>\n",
       "      <td>2690.13</td>\n",
       "      <td>3</td>\n",
       "      <td>18.0</td>\n",
       "      <td>0</td>\n",
       "      <td>3.6</td>\n",
       "      <td>5</td>\n",
       "      <td>GPS Schedule</td>\n",
       "      <td>0.0</td>\n",
       "      <td>0.0</td>\n",
       "      <td>0.0</td>\n",
       "      <td>0.0</td>\n",
       "      <td>2</td>\n",
       "      <td>2021-08-10 08:45:00</td>\n",
       "      <td>45.880294</td>\n",
       "      <td>3.276863</td>\n",
       "      <td>POINT (746700.929 3853699.248)</td>\n",
       "      <td>2</td>\n",
       "    </tr>\n",
       "    <tr>\n",
       "      <th>2</th>\n",
       "      <td>8/10/2021 15:00</td>\n",
       "      <td>34.792382</td>\n",
       "      <td>-108.297636</td>\n",
       "      <td>2685.92</td>\n",
       "      <td>3</td>\n",
       "      <td>18.5</td>\n",
       "      <td>0</td>\n",
       "      <td>3.8</td>\n",
       "      <td>5</td>\n",
       "      <td>GPS Schedule</td>\n",
       "      <td>0.0</td>\n",
       "      <td>0.0</td>\n",
       "      <td>0.0</td>\n",
       "      <td>0.0</td>\n",
       "      <td>3</td>\n",
       "      <td>2021-08-10 09:00:00</td>\n",
       "      <td>85.194239</td>\n",
       "      <td>2.353872</td>\n",
       "      <td>POINT (747248.551 3853347.996)</td>\n",
       "      <td>11</td>\n",
       "    </tr>\n",
       "    <tr>\n",
       "      <th>3</th>\n",
       "      <td>8/10/2021 15:15</td>\n",
       "      <td>34.794316</td>\n",
       "      <td>-108.304693</td>\n",
       "      <td>2677.39</td>\n",
       "      <td>3</td>\n",
       "      <td>18.5</td>\n",
       "      <td>0</td>\n",
       "      <td>3.2</td>\n",
       "      <td>5</td>\n",
       "      <td>GPS Schedule</td>\n",
       "      <td>0.0</td>\n",
       "      <td>0.0</td>\n",
       "      <td>0.0</td>\n",
       "      <td>0.0</td>\n",
       "      <td>4</td>\n",
       "      <td>2021-08-10 09:15:00</td>\n",
       "      <td>8.960635</td>\n",
       "      <td>0.463648</td>\n",
       "      <td>POINT (746596.977 3853545.118)</td>\n",
       "      <td>11</td>\n",
       "    </tr>\n",
       "    <tr>\n",
       "      <th>4</th>\n",
       "      <td>8/10/2021 15:30</td>\n",
       "      <td>34.799378</td>\n",
       "      <td>-108.307767</td>\n",
       "      <td>2651.16</td>\n",
       "      <td>2</td>\n",
       "      <td>18.5</td>\n",
       "      <td>0</td>\n",
       "      <td>2.6</td>\n",
       "      <td>5</td>\n",
       "      <td>GPS Schedule</td>\n",
       "      <td>0.0</td>\n",
       "      <td>0.0</td>\n",
       "      <td>0.0</td>\n",
       "      <td>0.0</td>\n",
       "      <td>5</td>\n",
       "      <td>2021-08-10 09:30:00</td>\n",
       "      <td>9.585296</td>\n",
       "      <td>0.702347</td>\n",
       "      <td>POINT (746300.609 3854099.176)</td>\n",
       "      <td>11</td>\n",
       "    </tr>\n",
       "  </tbody>\n",
       "</table>\n",
       "</div>"
      ],
      "text/plain": [
       "          GMT Time   Latitude   Longitude  Altitude  Duration  Temperatur  \\\n",
       "0  8/10/2021 14:31  34.790283 -108.305657   2690.83        65        19.0   \n",
       "1  8/10/2021 14:45  34.795679 -108.303513   2690.13         3        18.0   \n",
       "2  8/10/2021 15:00  34.792382 -108.297636   2685.92         3        18.5   \n",
       "3  8/10/2021 15:15  34.794316 -108.304693   2677.39         3        18.5   \n",
       "4  8/10/2021 15:30  34.799378 -108.307767   2651.16         2        18.5   \n",
       "\n",
       "   Voltage  DOP  Satellites    Cause of F  Lab_Coord  Lab_Dur  Lab_Sat  \\\n",
       "0        0  3.0           5  GPS Schedule        0.0      0.0      0.0   \n",
       "1        0  3.6           5  GPS Schedule        0.0      0.0      0.0   \n",
       "2        0  3.8           5  GPS Schedule        0.0      0.0      0.0   \n",
       "3        0  3.2           5  GPS Schedule        0.0      0.0      0.0   \n",
       "4        0  2.6           5  GPS Schedule        0.0      0.0      0.0   \n",
       "\n",
       "   Lab_Alt  No                time   distance     speed  \\\n",
       "0      0.0   1 2021-08-10 08:31:00  -1.000000 -1.000000   \n",
       "1      0.0   2 2021-08-10 08:45:00  45.880294  3.276863   \n",
       "2      0.0   3 2021-08-10 09:00:00  85.194239  2.353872   \n",
       "3      0.0   4 2021-08-10 09:15:00   8.960635  0.463648   \n",
       "4      0.0   5 2021-08-10 09:30:00   9.585296  0.702347   \n",
       "\n",
       "                         geometry  LULC  \n",
       "0  POINT (746520.733 3853095.300)    11  \n",
       "1  POINT (746700.929 3853699.248)     2  \n",
       "2  POINT (747248.551 3853347.996)    11  \n",
       "3  POINT (746596.977 3853545.118)    11  \n",
       "4  POINT (746300.609 3854099.176)    11  "
      ]
     },
     "execution_count": 67,
     "metadata": {},
     "output_type": "execute_result"
    }
   ],
   "source": [
    "RedV2.head()"
   ]
  },
  {
   "cell_type": "code",
   "execution_count": 71,
   "metadata": {},
   "outputs": [
    {
     "data": {
      "text/html": [
       "<div>\n",
       "<style scoped>\n",
       "    .dataframe tbody tr th:only-of-type {\n",
       "        vertical-align: middle;\n",
       "    }\n",
       "\n",
       "    .dataframe tbody tr th {\n",
       "        vertical-align: top;\n",
       "    }\n",
       "\n",
       "    .dataframe thead th {\n",
       "        text-align: right;\n",
       "    }\n",
       "</style>\n",
       "<table border=\"1\" class=\"dataframe\">\n",
       "  <thead>\n",
       "    <tr style=\"text-align: right;\">\n",
       "      <th></th>\n",
       "      <th>GMT Time</th>\n",
       "      <th>Latitude</th>\n",
       "      <th>Longitude</th>\n",
       "      <th>Altitude</th>\n",
       "      <th>Duration</th>\n",
       "      <th>Temperatur</th>\n",
       "      <th>Voltage</th>\n",
       "      <th>DOP</th>\n",
       "      <th>Satellites</th>\n",
       "      <th>Cause of F</th>\n",
       "      <th>Lab_Coord</th>\n",
       "      <th>Lab_Dur</th>\n",
       "      <th>Lab_Sat</th>\n",
       "      <th>Lab_Alt</th>\n",
       "      <th>No</th>\n",
       "      <th>time</th>\n",
       "      <th>distance</th>\n",
       "      <th>speed</th>\n",
       "      <th>geometry</th>\n",
       "      <th>LULC</th>\n",
       "    </tr>\n",
       "  </thead>\n",
       "  <tbody>\n",
       "    <tr>\n",
       "      <th>0</th>\n",
       "      <td>8/10/2021 14:31</td>\n",
       "      <td>34.790283</td>\n",
       "      <td>-108.305657</td>\n",
       "      <td>2690.83</td>\n",
       "      <td>65</td>\n",
       "      <td>19.0</td>\n",
       "      <td>0</td>\n",
       "      <td>3.0</td>\n",
       "      <td>5</td>\n",
       "      <td>GPS Schedule</td>\n",
       "      <td>0.0</td>\n",
       "      <td>0.0</td>\n",
       "      <td>0.0</td>\n",
       "      <td>0.0</td>\n",
       "      <td>1</td>\n",
       "      <td>2021-08-10 08:31:00</td>\n",
       "      <td>-1.000000</td>\n",
       "      <td>-1.000000</td>\n",
       "      <td>POINT (746520.733 3853095.300)</td>\n",
       "      <td>11</td>\n",
       "    </tr>\n",
       "    <tr>\n",
       "      <th>1</th>\n",
       "      <td>8/10/2021 14:45</td>\n",
       "      <td>34.795679</td>\n",
       "      <td>-108.303513</td>\n",
       "      <td>2690.13</td>\n",
       "      <td>3</td>\n",
       "      <td>18.0</td>\n",
       "      <td>0</td>\n",
       "      <td>3.6</td>\n",
       "      <td>5</td>\n",
       "      <td>GPS Schedule</td>\n",
       "      <td>0.0</td>\n",
       "      <td>0.0</td>\n",
       "      <td>0.0</td>\n",
       "      <td>0.0</td>\n",
       "      <td>2</td>\n",
       "      <td>2021-08-10 08:45:00</td>\n",
       "      <td>45.880294</td>\n",
       "      <td>3.276863</td>\n",
       "      <td>POINT (746700.929 3853699.248)</td>\n",
       "      <td>2</td>\n",
       "    </tr>\n",
       "    <tr>\n",
       "      <th>2</th>\n",
       "      <td>8/10/2021 15:00</td>\n",
       "      <td>34.792382</td>\n",
       "      <td>-108.297636</td>\n",
       "      <td>2685.92</td>\n",
       "      <td>3</td>\n",
       "      <td>18.5</td>\n",
       "      <td>0</td>\n",
       "      <td>3.8</td>\n",
       "      <td>5</td>\n",
       "      <td>GPS Schedule</td>\n",
       "      <td>0.0</td>\n",
       "      <td>0.0</td>\n",
       "      <td>0.0</td>\n",
       "      <td>0.0</td>\n",
       "      <td>3</td>\n",
       "      <td>2021-08-10 09:00:00</td>\n",
       "      <td>85.194239</td>\n",
       "      <td>2.353872</td>\n",
       "      <td>POINT (747248.551 3853347.996)</td>\n",
       "      <td>11</td>\n",
       "    </tr>\n",
       "    <tr>\n",
       "      <th>3</th>\n",
       "      <td>8/10/2021 15:15</td>\n",
       "      <td>34.794316</td>\n",
       "      <td>-108.304693</td>\n",
       "      <td>2677.39</td>\n",
       "      <td>3</td>\n",
       "      <td>18.5</td>\n",
       "      <td>0</td>\n",
       "      <td>3.2</td>\n",
       "      <td>5</td>\n",
       "      <td>GPS Schedule</td>\n",
       "      <td>0.0</td>\n",
       "      <td>0.0</td>\n",
       "      <td>0.0</td>\n",
       "      <td>0.0</td>\n",
       "      <td>4</td>\n",
       "      <td>2021-08-10 09:15:00</td>\n",
       "      <td>8.960635</td>\n",
       "      <td>0.463648</td>\n",
       "      <td>POINT (746596.977 3853545.118)</td>\n",
       "      <td>11</td>\n",
       "    </tr>\n",
       "    <tr>\n",
       "      <th>4</th>\n",
       "      <td>8/10/2021 15:30</td>\n",
       "      <td>34.799378</td>\n",
       "      <td>-108.307767</td>\n",
       "      <td>2651.16</td>\n",
       "      <td>2</td>\n",
       "      <td>18.5</td>\n",
       "      <td>0</td>\n",
       "      <td>2.6</td>\n",
       "      <td>5</td>\n",
       "      <td>GPS Schedule</td>\n",
       "      <td>0.0</td>\n",
       "      <td>0.0</td>\n",
       "      <td>0.0</td>\n",
       "      <td>0.0</td>\n",
       "      <td>5</td>\n",
       "      <td>2021-08-10 09:30:00</td>\n",
       "      <td>9.585296</td>\n",
       "      <td>0.702347</td>\n",
       "      <td>POINT (746300.609 3854099.176)</td>\n",
       "      <td>11</td>\n",
       "    </tr>\n",
       "    <tr>\n",
       "      <th>...</th>\n",
       "      <td>...</td>\n",
       "      <td>...</td>\n",
       "      <td>...</td>\n",
       "      <td>...</td>\n",
       "      <td>...</td>\n",
       "      <td>...</td>\n",
       "      <td>...</td>\n",
       "      <td>...</td>\n",
       "      <td>...</td>\n",
       "      <td>...</td>\n",
       "      <td>...</td>\n",
       "      <td>...</td>\n",
       "      <td>...</td>\n",
       "      <td>...</td>\n",
       "      <td>...</td>\n",
       "      <td>...</td>\n",
       "      <td>...</td>\n",
       "      <td>...</td>\n",
       "      <td>...</td>\n",
       "      <td>...</td>\n",
       "    </tr>\n",
       "    <tr>\n",
       "      <th>2712</th>\n",
       "      <td>10/8/2021 14:30</td>\n",
       "      <td>34.938247</td>\n",
       "      <td>-108.277773</td>\n",
       "      <td>1779.44</td>\n",
       "      <td>2</td>\n",
       "      <td>14.5</td>\n",
       "      <td>0</td>\n",
       "      <td>1.0</td>\n",
       "      <td>6</td>\n",
       "      <td>GPS Schedule</td>\n",
       "      <td>0.0</td>\n",
       "      <td>0.0</td>\n",
       "      <td>0.0</td>\n",
       "      <td>0.0</td>\n",
       "      <td>3540</td>\n",
       "      <td>2021-10-08 08:30:00</td>\n",
       "      <td>10.557870</td>\n",
       "      <td>0.495932</td>\n",
       "      <td>POINT (748626.601 3869579.002)</td>\n",
       "      <td>11</td>\n",
       "    </tr>\n",
       "    <tr>\n",
       "      <th>2713</th>\n",
       "      <td>10/8/2021 14:45</td>\n",
       "      <td>34.939316</td>\n",
       "      <td>-108.276832</td>\n",
       "      <td>1792.66</td>\n",
       "      <td>3</td>\n",
       "      <td>15.5</td>\n",
       "      <td>0</td>\n",
       "      <td>1.0</td>\n",
       "      <td>8</td>\n",
       "      <td>GPS Schedule</td>\n",
       "      <td>0.0</td>\n",
       "      <td>0.0</td>\n",
       "      <td>0.0</td>\n",
       "      <td>0.0</td>\n",
       "      <td>3541</td>\n",
       "      <td>2021-10-08 08:45:00</td>\n",
       "      <td>9.279421</td>\n",
       "      <td>14.271261</td>\n",
       "      <td>POINT (748709.310 3869699.891)</td>\n",
       "      <td>11</td>\n",
       "    </tr>\n",
       "    <tr>\n",
       "      <th>2714</th>\n",
       "      <td>10/8/2021 15:00</td>\n",
       "      <td>34.942255</td>\n",
       "      <td>-108.278813</td>\n",
       "      <td>1786.06</td>\n",
       "      <td>1</td>\n",
       "      <td>16.0</td>\n",
       "      <td>0</td>\n",
       "      <td>1.0</td>\n",
       "      <td>8</td>\n",
       "      <td>GPS Schedule</td>\n",
       "      <td>0.0</td>\n",
       "      <td>0.0</td>\n",
       "      <td>0.0</td>\n",
       "      <td>0.0</td>\n",
       "      <td>3542</td>\n",
       "      <td>2021-10-08 09:00:00</td>\n",
       "      <td>561.571028</td>\n",
       "      <td>7.467805</td>\n",
       "      <td>POINT (748519.479 3870021.045)</td>\n",
       "      <td>11</td>\n",
       "    </tr>\n",
       "    <tr>\n",
       "      <th>2715</th>\n",
       "      <td>10/8/2021 15:46</td>\n",
       "      <td>34.828757</td>\n",
       "      <td>-108.307587</td>\n",
       "      <td>2456.15</td>\n",
       "      <td>64</td>\n",
       "      <td>14.0</td>\n",
       "      <td>0</td>\n",
       "      <td>1.2</td>\n",
       "      <td>7</td>\n",
       "      <td>GPS Schedule</td>\n",
       "      <td>0.0</td>\n",
       "      <td>0.0</td>\n",
       "      <td>0.0</td>\n",
       "      <td>0.0</td>\n",
       "      <td>3545</td>\n",
       "      <td>2021-10-08 09:46:00</td>\n",
       "      <td>35.853340</td>\n",
       "      <td>0.494999</td>\n",
       "      <td>POINT (746229.565 3857358.763)</td>\n",
       "      <td>11</td>\n",
       "    </tr>\n",
       "    <tr>\n",
       "      <th>2716</th>\n",
       "      <td>10/8/2021 16:00</td>\n",
       "      <td>34.828762</td>\n",
       "      <td>-108.307546</td>\n",
       "      <td>2447.04</td>\n",
       "      <td>15</td>\n",
       "      <td>12.5</td>\n",
       "      <td>0</td>\n",
       "      <td>1.2</td>\n",
       "      <td>7</td>\n",
       "      <td>GPS Schedule</td>\n",
       "      <td>0.0</td>\n",
       "      <td>0.0</td>\n",
       "      <td>0.0</td>\n",
       "      <td>0.0</td>\n",
       "      <td>3546</td>\n",
       "      <td>2021-10-08 10:00:00</td>\n",
       "      <td>3.746604</td>\n",
       "      <td>0.187330</td>\n",
       "      <td>POINT (746233.338 3857359.386)</td>\n",
       "      <td>11</td>\n",
       "    </tr>\n",
       "  </tbody>\n",
       "</table>\n",
       "<p>2717 rows × 20 columns</p>\n",
       "</div>"
      ],
      "text/plain": [
       "             GMT Time   Latitude   Longitude  Altitude  Duration  Temperatur  \\\n",
       "0     8/10/2021 14:31  34.790283 -108.305657   2690.83        65        19.0   \n",
       "1     8/10/2021 14:45  34.795679 -108.303513   2690.13         3        18.0   \n",
       "2     8/10/2021 15:00  34.792382 -108.297636   2685.92         3        18.5   \n",
       "3     8/10/2021 15:15  34.794316 -108.304693   2677.39         3        18.5   \n",
       "4     8/10/2021 15:30  34.799378 -108.307767   2651.16         2        18.5   \n",
       "...               ...        ...         ...       ...       ...         ...   \n",
       "2712  10/8/2021 14:30  34.938247 -108.277773   1779.44         2        14.5   \n",
       "2713  10/8/2021 14:45  34.939316 -108.276832   1792.66         3        15.5   \n",
       "2714  10/8/2021 15:00  34.942255 -108.278813   1786.06         1        16.0   \n",
       "2715  10/8/2021 15:46  34.828757 -108.307587   2456.15        64        14.0   \n",
       "2716  10/8/2021 16:00  34.828762 -108.307546   2447.04        15        12.5   \n",
       "\n",
       "      Voltage  DOP  Satellites    Cause of F  Lab_Coord  Lab_Dur  Lab_Sat  \\\n",
       "0           0  3.0           5  GPS Schedule        0.0      0.0      0.0   \n",
       "1           0  3.6           5  GPS Schedule        0.0      0.0      0.0   \n",
       "2           0  3.8           5  GPS Schedule        0.0      0.0      0.0   \n",
       "3           0  3.2           5  GPS Schedule        0.0      0.0      0.0   \n",
       "4           0  2.6           5  GPS Schedule        0.0      0.0      0.0   \n",
       "...       ...  ...         ...           ...        ...      ...      ...   \n",
       "2712        0  1.0           6  GPS Schedule        0.0      0.0      0.0   \n",
       "2713        0  1.0           8  GPS Schedule        0.0      0.0      0.0   \n",
       "2714        0  1.0           8  GPS Schedule        0.0      0.0      0.0   \n",
       "2715        0  1.2           7  GPS Schedule        0.0      0.0      0.0   \n",
       "2716        0  1.2           7  GPS Schedule        0.0      0.0      0.0   \n",
       "\n",
       "      Lab_Alt    No                time    distance      speed  \\\n",
       "0         0.0     1 2021-08-10 08:31:00   -1.000000  -1.000000   \n",
       "1         0.0     2 2021-08-10 08:45:00   45.880294   3.276863   \n",
       "2         0.0     3 2021-08-10 09:00:00   85.194239   2.353872   \n",
       "3         0.0     4 2021-08-10 09:15:00    8.960635   0.463648   \n",
       "4         0.0     5 2021-08-10 09:30:00    9.585296   0.702347   \n",
       "...       ...   ...                 ...         ...        ...   \n",
       "2712      0.0  3540 2021-10-08 08:30:00   10.557870   0.495932   \n",
       "2713      0.0  3541 2021-10-08 08:45:00    9.279421  14.271261   \n",
       "2714      0.0  3542 2021-10-08 09:00:00  561.571028   7.467805   \n",
       "2715      0.0  3545 2021-10-08 09:46:00   35.853340   0.494999   \n",
       "2716      0.0  3546 2021-10-08 10:00:00    3.746604   0.187330   \n",
       "\n",
       "                            geometry  LULC  \n",
       "0     POINT (746520.733 3853095.300)    11  \n",
       "1     POINT (746700.929 3853699.248)     2  \n",
       "2     POINT (747248.551 3853347.996)    11  \n",
       "3     POINT (746596.977 3853545.118)    11  \n",
       "4     POINT (746300.609 3854099.176)    11  \n",
       "...                              ...   ...  \n",
       "2712  POINT (748626.601 3869579.002)    11  \n",
       "2713  POINT (748709.310 3869699.891)    11  \n",
       "2714  POINT (748519.479 3870021.045)    11  \n",
       "2715  POINT (746229.565 3857358.763)    11  \n",
       "2716  POINT (746233.338 3857359.386)    11  \n",
       "\n",
       "[2717 rows x 20 columns]"
      ]
     },
     "execution_count": 71,
     "metadata": {},
     "output_type": "execute_result"
    }
   ],
   "source": [
    "RedV2 = RedV2.sort_values(by = 'No')\n",
    "RedV2"
   ]
  }
 ],
 "metadata": {
  "kernelspec": {
   "display_name": "geopandas_docs",
   "language": "python",
   "name": "python3"
  },
  "language_info": {
   "codemirror_mode": {
    "name": "ipython",
    "version": 3
   },
   "file_extension": ".py",
   "mimetype": "text/x-python",
   "name": "python",
   "nbconvert_exporter": "python",
   "pygments_lexer": "ipython3",
   "version": "3.8.3"
  },
  "orig_nbformat": 4
 },
 "nbformat": 4,
 "nbformat_minor": 2
}
